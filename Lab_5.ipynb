{
  "nbformat": 4,
  "nbformat_minor": 0,
  "metadata": {
    "colab": {
      "provenance": []
    },
    "kernelspec": {
      "name": "python3",
      "display_name": "Python 3"
    },
    "language_info": {
      "name": "python"
    }
  },
  "cells": [
    {
      "cell_type": "markdown",
      "source": [
        "# Лабораторная работа №5. Построение нейронных сетей для Q-обучения с помощью PyTorch и Tensorflow\n",
        "\n",
        "Горюнов Н.С., гр. 5140201/30301"
      ],
      "metadata": {
        "id": "GWx5SLNYHPqK"
      }
    },
    {
      "cell_type": "markdown",
      "source": [
        "## 1 Реализация на PyTorch"
      ],
      "metadata": {
        "id": "OWwDB6cUHnKa"
      }
    },
    {
      "cell_type": "code",
      "source": [
        "import gym\n",
        "import os\n",
        "import time\n",
        "import numpy as np\n",
        "import matplotlib.pyplot as plt\n",
        "import torch\n",
        "import torch.nn as nn\n",
        "import torch.nn.functional as F\n",
        "import torch.optim as optim\n",
        "\n",
        "if type(os.environ.get(\"DISPLAY\")) is not str or len(os.environ.get(\"DISPLAY\")) == 0:\n",
        "    os.environ['DISPLAY'] = ':1'\n",
        "\n",
        "env = gym.make(\"CartPole-v0\").env\n",
        "env.reset()\n",
        "n_actions = env.action_space.n\n",
        "state_dim = env.observation_space.shape\n",
        "plt.imshow(env.render(\"rgb_array\"))\n",
        "\n",
        "assert not torch.cuda.is_available()"
      ],
      "metadata": {
        "colab": {
          "base_uri": "https://localhost:8080/",
          "height": 612
        },
        "id": "E-T973TiH55X",
        "outputId": "a8e8ccd4-dbae-41a0-cddf-798bd574f734"
      },
      "execution_count": 6,
      "outputs": [
        {
          "output_type": "stream",
          "name": "stderr",
          "text": [
            "/usr/local/lib/python3.10/dist-packages/ipykernel/ipkernel.py:283: DeprecationWarning: `should_run_async` will not call `transform_cell` automatically in the future. Please pass the result to `transformed_cell` argument and any exception that happen during thetransform in `preprocessing_exc_tuple` in IPython 7.17 and above.\n",
            "  and should_run_async(code)\n",
            "/usr/local/lib/python3.10/dist-packages/gym/envs/registration.py:593: UserWarning: \u001b[33mWARN: The environment CartPole-v0 is out of date. You should consider upgrading to version `v1`.\u001b[0m\n",
            "  logger.warn(\n",
            "/usr/local/lib/python3.10/dist-packages/gym/core.py:317: DeprecationWarning: \u001b[33mWARN: Initializing wrapper in old step API which returns one bool instead of two. It is recommended to set `new_step_api=True` to use new step API. This will be the default behaviour in future.\u001b[0m\n",
            "  deprecation(\n",
            "/usr/local/lib/python3.10/dist-packages/gym/wrappers/step_api_compatibility.py:39: DeprecationWarning: \u001b[33mWARN: Initializing environment in old step API which returns one bool instead of two. It is recommended to set `new_step_api=True` to use new step API. This will be the default behaviour in future.\u001b[0m\n",
            "  deprecation(\n",
            "/usr/local/lib/python3.10/dist-packages/gym/core.py:43: DeprecationWarning: \u001b[33mWARN: The argument mode in render method is deprecated; use render_mode during environment initialization instead.\n",
            "See here for more information: https://www.gymlibrary.ml/content/api/\u001b[0m\n",
            "  deprecation(\n"
          ]
        },
        {
          "output_type": "display_data",
          "data": {
            "text/plain": [
              "<Figure size 640x480 with 1 Axes>"
            ],
            "image/png": "[encoded data removed]"
          },
          "metadata": {}
        }
      ]
    },
    {
      "cell_type": "code",
      "source": [
        "class QNetwork(nn.Module):\n",
        "    def __init__(self, state_dim, n_actions):\n",
        "        super(QNetwork, self).__init__()\n",
        "        self.network = nn.Sequential(\n",
        "            nn.Linear(state_dim[0], 64),\n",
        "            nn.ReLU(),\n",
        "            nn.Linear(64, 64),\n",
        "            nn.ReLU(),\n",
        "            nn.Linear(64, n_actions)\n",
        "        )\n",
        "\n",
        "    def forward(self, x):\n",
        "        return self.network(x)\n",
        "\n",
        "network = QNetwork(state_dim, n_actions)\n",
        "\n",
        "def get_action(state, epsilon=0):\n",
        "    state_tensor = torch.tensor(state, dtype=torch.float32).unsqueeze(0)\n",
        "    q_values = network(state_tensor).detach().numpy()[0]\n",
        "    if np.random.rand() < epsilon:\n",
        "        # Выполняем случайное действие\n",
        "        return int(np.random.choice(n_actions))\n",
        "    # Действие с наибольшим Q(s,a)\n",
        "    return int(np.argmax(q_values))\n",
        "\n",
        "s = env.reset()\n",
        "assert network(torch.tensor(np.array([s] * 5), dtype=torch.float32)).shape == (5, n_actions), \"пожалуйста, убедитесь, что ваша модель отображает состояние s -> [Q(s,a0),..., Q(s, a_last)]\"\n",
        "\n",
        "assert isinstance(list(network.modules())[-1], nn.Linear),\"пожалуйста, убедитесь, что вы предсказываете q-значения без нелинейности\""
      ],
      "metadata": {
        "id": "QE-ZNz-bH_TX"
      },
      "execution_count": 2,
      "outputs": []
    },
    {
      "cell_type": "code",
      "execution_count": 3,
      "metadata": {
        "colab": {
          "base_uri": "https://localhost:8080/"
        },
        "id": "1AehcnSl3bVN",
        "outputId": "53638e1b-e8b7-4b32-f12e-8e661dc18abc"
      },
      "outputs": [
        {
          "output_type": "stream",
          "name": "stdout",
          "text": [
            "e=0.0 tests passed\n",
            "e=0.1 tests passed\n",
            "e=0.5 tests passed\n",
            "e=1.0 tests passed\n"
          ]
        }
      ],
      "source": [
        "# Тест эпсилон-жадных исследований\n",
        "assert isinstance(get_action(s), int), \"верните только одно действие (integer)\"\n",
        "\n",
        "for eps in [0., 0.1, 0.5, 1.0]:\n",
        "    state_frequencies = np.bincount([get_action(s, epsilon=eps) for i in range(10000)], minlength=n_actions)\n",
        "    best_action = state_frequencies.argmax()\n",
        "    assert abs(state_frequencies[best_action] - 10000 * (1 - eps + eps / n_actions)) < 200\n",
        "    for other_action in range(n_actions):\n",
        "        if other_action != best_action:\n",
        "            assert abs(state_frequencies[other_action] - 10000 * (eps / n_actions)) < 200\n",
        "    print('e=%.1f tests passed' % eps)"
      ]
    },
    {
      "cell_type": "code",
      "source": [
        "# Функция для генерации эпизодов с обучением агента\n",
        "def generate_session(env, t_max=1000, epsilon=0, train=False):\n",
        "    total_reward = 0\n",
        "    s = env.reset()\n",
        "    for t in range(t_max):\n",
        "        a = get_action(s, epsilon=epsilon)\n",
        "        next_s, r, done, _ = env.step(a)\n",
        "\n",
        "       # Создадим тензоры  для  кортежа и специального индикатора окончания игры (is_done = True)\n",
        "        states_tensor = torch.tensor(s, dtype=torch.float32).unsqueeze(0)\n",
        "        actions_tensor = torch.tensor([a], dtype=torch.int64)\n",
        "        rewards_tensor = torch.tensor([r], dtype=torch.float32)\n",
        "        next_states_tensor = torch.tensor(next_s, dtype=torch.float32).unsqueeze(0)\n",
        "        is_done_tensor = torch.tensor([done], dtype=torch.bool)\n",
        "\n",
        "        # Задание q-значений для всех действий в текущем состоянии\n",
        "        predicted_qvalues = network(states_tensor)\n",
        "        #выборка q-значений для выбранных действий\n",
        "        predicted_qvalues_for_actions = torch.sum(predicted_qvalues * F.one_hot(actions_tensor, num_classes=n_actions), dim=1)\n",
        "\n",
        "        # Вычисление Q-значений для следующих состояний\n",
        "        predicted_next_qvalues = network(next_states_tensor)\n",
        "        next_state_values = torch.max(predicted_next_qvalues, dim=1)[0]\n",
        "\n",
        "        # Целевые Q-значения\n",
        "        target_qvalues_for_actions = rewards_tensor + gamma * next_state_values\n",
        "        target_qvalues_for_actions = torch.where(is_done_tensor, rewards_tensor, target_qvalues_for_actions)# выбор только награды для конечного состояния\n",
        "\n",
        "        # Потери\n",
        "        loss = torch.mean((predicted_qvalues_for_actions - target_qvalues_for_actions.detach()) ** 2)\n",
        "\n",
        "        # Оптимизация\n",
        "        if train:\n",
        "            optimizer.zero_grad()\n",
        "            loss.backward()\n",
        "            optimizer.step()\n",
        "\n",
        "        total_reward += r\n",
        "        s = next_s\n",
        "        if done:\n",
        "            break\n",
        "\n",
        "        # Тесты\n",
        "        assert predicted_next_qvalues.data.dim() == 2, \"убедитесь, что вы предсказали значения q для всех действий в следующем состоянии\"\n",
        "        assert next_state_values.data.dim() == 1, \"убедитесь, что вы вычислили V (s') как максимум только по оси действий, а не по всем осям\"\n",
        "        assert target_qvalues_for_actions.data.dim() == 1, \"целевые Q-значения должны быть вектором\"\n",
        "\n",
        "    return total_reward"
      ],
      "metadata": {
        "id": "WssD46GhIKoR"
      },
      "execution_count": 4,
      "outputs": []
    },
    {
      "cell_type": "code",
      "source": [
        "# Оптимизатор и обучение\n",
        "gamma = 0.99\n",
        "optimizer = optim.Adam(network.parameters(), lr=1e-4)\n",
        "\n",
        "epsilon = 0.5\n",
        "for i in range(1000):\n",
        "    start_time = time.time()  # Замер времени начала эпохи\n",
        "    session_rewards = [generate_session(env, epsilon=epsilon, train=True) for _ in range(100)]\n",
        "    epoch_time = time.time() - start_time  # Вычисление времени выполнения эпохи\n",
        "    print(\"epoch #{}\\tmean reward = {:.3f}\\tepsilon = {:.3f}\\ttime = {:.2f}s\".format(i, np.mean(session_rewards), epsilon, epoch_time))\n",
        "    epsilon *= 0.99\n",
        "    assert epsilon >= 1e-4, \" Убедитесь, что эпсилон всегда отличен от нуля во время обучения \"\n",
        "\n",
        "    if np.mean(session_rewards) > 300:\n",
        "        print(\"You Win!\")\n",
        "        break"
      ],
      "metadata": {
        "colab": {
          "base_uri": "https://localhost:8080/"
        },
        "id": "KWcYVrrTIPPG",
        "outputId": "81030922-7530-4f92-bbff-d9a714554fa3"
      },
      "execution_count": 7,
      "outputs": [
        {
          "output_type": "stream",
          "name": "stderr",
          "text": [
            "/usr/local/lib/python3.10/dist-packages/gym/utils/passive_env_checker.py:241: DeprecationWarning: `np.bool8` is a deprecated alias for `np.bool_`.  (Deprecated NumPy 1.24)\n",
            "  if not isinstance(terminated, (bool, np.bool8)):\n"
          ]
        },
        {
          "output_type": "stream",
          "name": "stdout",
          "text": [
            "epoch #0\tmean reward = 13.810\tepsilon = 0.500\ttime = 4.98s\n",
            "epoch #1\tmean reward = 14.450\tepsilon = 0.495\ttime = 3.24s\n",
            "epoch #2\tmean reward = 14.550\tepsilon = 0.490\ttime = 3.28s\n",
            "epoch #3\tmean reward = 12.900\tepsilon = 0.485\ttime = 3.56s\n",
            "epoch #4\tmean reward = 13.250\tepsilon = 0.480\ttime = 3.53s\n",
            "epoch #5\tmean reward = 14.990\tepsilon = 0.475\ttime = 3.67s\n",
            "epoch #6\tmean reward = 15.860\tepsilon = 0.471\ttime = 3.42s\n",
            "epoch #7\tmean reward = 16.200\tepsilon = 0.466\ttime = 4.65s\n",
            "epoch #8\tmean reward = 15.980\tepsilon = 0.461\ttime = 3.84s\n",
            "epoch #9\tmean reward = 18.810\tepsilon = 0.457\ttime = 4.11s\n",
            "epoch #10\tmean reward = 32.820\tepsilon = 0.452\ttime = 8.25s\n",
            "epoch #11\tmean reward = 31.140\tepsilon = 0.448\ttime = 9.02s\n",
            "epoch #12\tmean reward = 41.880\tepsilon = 0.443\ttime = 10.84s\n",
            "epoch #13\tmean reward = 44.080\tepsilon = 0.439\ttime = 10.38s\n",
            "epoch #14\tmean reward = 46.030\tepsilon = 0.434\ttime = 11.11s\n",
            "epoch #15\tmean reward = 55.600\tepsilon = 0.430\ttime = 13.41s\n",
            "epoch #16\tmean reward = 60.510\tepsilon = 0.426\ttime = 14.40s\n",
            "epoch #17\tmean reward = 69.930\tepsilon = 0.421\ttime = 17.18s\n",
            "epoch #18\tmean reward = 65.800\tepsilon = 0.417\ttime = 15.70s\n",
            "epoch #19\tmean reward = 87.780\tepsilon = 0.413\ttime = 22.50s\n",
            "epoch #20\tmean reward = 140.100\tepsilon = 0.409\ttime = 33.96s\n",
            "epoch #21\tmean reward = 148.200\tepsilon = 0.405\ttime = 37.06s\n",
            "epoch #22\tmean reward = 156.440\tepsilon = 0.401\ttime = 39.67s\n",
            "epoch #23\tmean reward = 183.460\tepsilon = 0.397\ttime = 45.36s\n",
            "epoch #24\tmean reward = 200.090\tepsilon = 0.393\ttime = 49.35s\n",
            "epoch #25\tmean reward = 188.580\tepsilon = 0.389\ttime = 48.10s\n",
            "epoch #26\tmean reward = 193.320\tepsilon = 0.385\ttime = 47.57s\n",
            "epoch #27\tmean reward = 161.880\tepsilon = 0.381\ttime = 39.75s\n",
            "epoch #28\tmean reward = 147.710\tepsilon = 0.377\ttime = 35.74s\n",
            "epoch #29\tmean reward = 151.950\tepsilon = 0.374\ttime = 39.30s\n",
            "epoch #30\tmean reward = 180.250\tepsilon = 0.370\ttime = 42.81s\n",
            "epoch #31\tmean reward = 209.750\tepsilon = 0.366\ttime = 50.64s\n",
            "epoch #32\tmean reward = 125.090\tepsilon = 0.362\ttime = 31.86s\n",
            "epoch #33\tmean reward = 160.980\tepsilon = 0.359\ttime = 39.59s\n",
            "epoch #34\tmean reward = 312.030\tepsilon = 0.355\ttime = 77.24s\n",
            "You Win!\n"
          ]
        }
      ]
    },
    {
      "cell_type": "markdown",
      "source": [
        "## 2 Реализация на Tensorflow"
      ],
      "metadata": {
        "id": "F4oSeou5I57O"
      }
    },
    {
      "cell_type": "code",
      "source": [
        "import gym\n",
        "import os\n",
        "import time\n",
        "import numpy as np\n",
        "import matplotlib.pyplot as plt\n",
        "import tensorflow as tf\n",
        "from tensorflow.keras import layers\n",
        "\n",
        "if type(os.environ.get(\"DISPLAY\")) is not str or len(os.environ.get(\"DISPLAY\")) == 0:\n",
        "    os.environ['DISPLAY'] = ':1'\n",
        "\n",
        "env = gym.make(\"CartPole-v1\").env\n",
        "env.reset()\n",
        "n_actions = env.action_space.n\n",
        "state_dim = env.observation_space.shape\n",
        "plt.imshow(env.render(\"rgb_array\"))"
      ],
      "metadata": {
        "colab": {
          "base_uri": "https://localhost:8080/",
          "height": 595
        },
        "id": "d6del3Tu90Qx",
        "outputId": "2cbcbeb0-46ed-4420-88a5-ec21c7f0d0b8"
      },
      "execution_count": 14,
      "outputs": [
        {
          "output_type": "stream",
          "name": "stderr",
          "text": [
            "/usr/local/lib/python3.10/dist-packages/ipykernel/ipkernel.py:283: DeprecationWarning: `should_run_async` will not call `transform_cell` automatically in the future. Please pass the result to `transformed_cell` argument and any exception that happen during thetransform in `preprocessing_exc_tuple` in IPython 7.17 and above.\n",
            "  and should_run_async(code)\n",
            "/usr/local/lib/python3.10/dist-packages/gym/core.py:317: DeprecationWarning: \u001b[33mWARN: Initializing wrapper in old step API which returns one bool instead of two. It is recommended to set `new_step_api=True` to use new step API. This will be the default behaviour in future.\u001b[0m\n",
            "  deprecation(\n",
            "/usr/local/lib/python3.10/dist-packages/gym/wrappers/step_api_compatibility.py:39: DeprecationWarning: \u001b[33mWARN: Initializing environment in old step API which returns one bool instead of two. It is recommended to set `new_step_api=True` to use new step API. This will be the default behaviour in future.\u001b[0m\n",
            "  deprecation(\n",
            "/usr/local/lib/python3.10/dist-packages/gym/core.py:43: DeprecationWarning: \u001b[33mWARN: The argument mode in render method is deprecated; use render_mode during environment initialization instead.\n",
            "See here for more information: https://www.gymlibrary.ml/content/api/\u001b[0m\n",
            "  deprecation(\n"
          ]
        },
        {
          "output_type": "execute_result",
          "data": {
            "text/plain": [
              "<matplotlib.image.AxesImage at 0x7e5079423ac0>"
            ]
          },
          "metadata": {},
          "execution_count": 14
        },
        {
          "output_type": "display_data",
          "data": {
            "text/plain": [
              "<Figure size 640x480 with 1 Axes>"
            ],
            "image/png": "[encoded data removed]"
          },
          "metadata": {}
        }
      ]
    },
    {
      "cell_type": "code",
      "source": [
        "class QNetwork(tf.keras.Model):\n",
        "    def __init__(self, state_dim, n_actions):\n",
        "        super(QNetwork, self).__init__()\n",
        "        self.network = tf.keras.Sequential([\n",
        "            layers.Dense(64, activation='relu', input_shape=state_dim),\n",
        "            layers.Dense(128, activation='relu'),\n",
        "            layers.Dense(n_actions)\n",
        "        ])\n",
        "\n",
        "    def call(self, x):\n",
        "        return self.network(x)\n",
        "\n",
        "network = QNetwork(state_dim, n_actions)\n",
        "\n",
        "def get_action(state, epsilon=0):\n",
        "    state_tensor = tf.convert_to_tensor(state, dtype=tf.float32)[None, :]\n",
        "    q_values = network(state_tensor).numpy()[0]\n",
        "    if np.random.rand() < epsilon:\n",
        "        # Выполняем случайное действие\n",
        "        return int(np.random.choice(n_actions))\n",
        "    # Действие с наибольшим Q(s,a)\n",
        "    return int(np.argmax(q_values))"
      ],
      "metadata": {
        "colab": {
          "base_uri": "https://localhost:8080/"
        },
        "id": "w4VagvNVeY55",
        "outputId": "33e52e96-699e-4759-9e2c-d90066a8bced"
      },
      "execution_count": 11,
      "outputs": [
        {
          "output_type": "stream",
          "name": "stderr",
          "text": [
            "/usr/local/lib/python3.10/dist-packages/keras/src/layers/core/dense.py:87: UserWarning: Do not pass an `input_shape`/`input_dim` argument to a layer. When using Sequential models, prefer using an `Input(shape)` object as the first layer in the model instead.\n",
            "  super().__init__(activity_regularizer=activity_regularizer, **kwargs)\n"
          ]
        }
      ]
    },
    {
      "cell_type": "code",
      "source": [
        "s = env.reset()\n",
        "assert network(tf.convert_to_tensor(np.array([s] * 5), dtype=tf.float32)).shape == (5, n_actions), \"пожалуйста, убедитесь, что ваша модель отображает состояние s -> [Q(s,a0),..., Q(s, a_last)]\"\n",
        "\n",
        "# Проверка эпсилон-жадных исследований\n",
        "assert isinstance(get_action(s), int), \"верните только одно действие (integer)\"\n",
        "\n",
        "for eps in [0., 0.1, 0.5, 1.0]:\n",
        "    state_frequencies = np.bincount([get_action(s, epsilon=eps) for i in range(10000)], minlength=n_actions)\n",
        "    best_action = state_frequencies.argmax()\n",
        "    assert abs(state_frequencies[best_action] - 10000 * (1 - eps + eps / n_actions)) < 200\n",
        "    for other_action in range(n_actions):\n",
        "        if other_action != best_action:\n",
        "            assert abs(state_frequencies[other_action] - 10000 * (eps / n_actions)) < 200\n",
        "    print('e=%.1f tests passed' % eps)"
      ],
      "metadata": {
        "colab": {
          "base_uri": "https://localhost:8080/"
        },
        "id": "IQQiS4DnbQrD",
        "outputId": "32548620-a79e-4716-eb12-0a4e2186813c"
      },
      "execution_count": 12,
      "outputs": [
        {
          "output_type": "stream",
          "name": "stdout",
          "text": [
            "e=0.0 tests passed\n",
            "e=0.1 tests passed\n",
            "e=0.5 tests passed\n",
            "e=1.0 tests passed\n"
          ]
        }
      ]
    },
    {
      "cell_type": "code",
      "source": [
        "# Функция для генерации эпизодов с обучением агента\n",
        "def generate_session(env, t_max=1000, epsilon=0, train=False):\n",
        "    total_reward = 0\n",
        "    s = env.reset()\n",
        "    for t in range(t_max):\n",
        "        a = get_action(s, epsilon=epsilon)\n",
        "        next_s, r, done, _ = env.step(a)\n",
        "\n",
        "        # Создадим тензоры для кортежа и специального индикатора окончания игры (is_done = True)\n",
        "        states_tensor = tf.convert_to_tensor(s, dtype=tf.float32)[None, :]\n",
        "        actions_tensor = tf.convert_to_tensor([a], dtype=tf.int64)\n",
        "        rewards_tensor = tf.convert_to_tensor([r], dtype=tf.float32)\n",
        "        next_states_tensor = tf.convert_to_tensor(next_s, dtype=tf.float32)[None, :]\n",
        "        is_done_tensor = tf.convert_to_tensor([done], dtype=tf.bool)\n",
        "\n",
        "        if train:\n",
        "            with tf.GradientTape() as tape:\n",
        "                # Задание q-значений для всех действий в текущем состоянии\n",
        "                predicted_qvalues = network(states_tensor)\n",
        "                # Выборка q-значений для выбранных действий\n",
        "                predicted_qvalues_for_actions = tf.reduce_sum(\n",
        "                    predicted_qvalues * tf.one_hot(actions_tensor, n_actions), axis=1\n",
        "                )\n",
        "\n",
        "                # Вычисление Q-значений для следующих состояний\n",
        "                predicted_next_qvalues = network(next_states_tensor)\n",
        "                next_state_values = tf.reduce_max(predicted_next_qvalues, axis=1)\n",
        "\n",
        "                # Целевые Q-значения\n",
        "                target_qvalues_for_actions = rewards_tensor + gamma * next_state_values\n",
        "                target_qvalues_for_actions = tf.where(\n",
        "                    is_done_tensor, rewards_tensor, target_qvalues_for_actions\n",
        "                )\n",
        "\n",
        "                # Потери\n",
        "                loss = tf.reduce_mean((predicted_qvalues_for_actions - target_qvalues_for_actions) ** 2)\n",
        "\n",
        "            # Оптимизация\n",
        "            grads = tape.gradient(loss, network.trainable_variables)\n",
        "            optimizer.apply_gradients(zip(grads, network.trainable_variables))\n",
        "\n",
        "        total_reward += r\n",
        "        s = next_s\n",
        "        if done:\n",
        "            break\n",
        "\n",
        "        # Тесты\n",
        "        assert predicted_qvalues.shape[1] == n_actions, \\\n",
        "            \"Убедитесь, что вы предсказали значения Q для всех действий в следующем состоянии\"\n",
        "        assert next_state_values.shape[0] == 1, \\\n",
        "            \"Убедитесь, что вы вычислили V(s') как максимум только по оси действий, а не по всем осям\"\n",
        "        assert target_qvalues_for_actions.shape[0] == 1, \\\n",
        "            \"Целевые Q-значения должны быть вектором\"\n",
        "\n",
        "    return total_reward"
      ],
      "metadata": {
        "id": "EKNG9_7SWRpC"
      },
      "execution_count": 13,
      "outputs": []
    },
    {
      "cell_type": "code",
      "source": [
        "# Оптимизатор и обучение\n",
        "gamma = 0.99\n",
        "optimizer = tf.optimizers.Adam(learning_rate=1e-4)\n",
        "\n",
        "epsilon = 0.5\n",
        "for i in range(1000):\n",
        "    start_time = time.time()  # Замер времени начала эпохи\n",
        "    session_rewards = [generate_session(env, epsilon=epsilon, train=True) for _ in range(100)]\n",
        "    epoch_time = time.time() - start_time  # Вычисление времени выполнения эпохи\n",
        "    print(\"epoch #{}\\tmean reward = {:.3f}\\tepsilon = {:.3f}\\ttime = {:.2f}s\".format(i, np.mean(session_rewards), epsilon, epoch_time))\n",
        "    epsilon *= 0.99\n",
        "    assert epsilon >= 1e-4, \" Убедитесь, что эпсилон всегда отличен от нуля во время обучения \"\n",
        "\n",
        "    if np.mean(session_rewards) > 300:\n",
        "        print(\"You Win!\")\n",
        "        break\n"
      ],
      "metadata": {
        "colab": {
          "base_uri": "https://localhost:8080/"
        },
        "id": "w-PB0RMA8O8n",
        "outputId": "2cd3688b-9146-4f07-daf5-369b6cbf5803"
      },
      "execution_count": null,
      "outputs": [
        {
          "metadata": {
            "tags": null
          },
          "name": "stderr",
          "output_type": "stream",
          "text": [
            "/usr/local/lib/python3.10/dist-packages/gym/utils/passive_env_checker.py:241: DeprecationWarning: `np.bool8` is a deprecated alias for `np.bool_`.  (Deprecated NumPy 1.24)\n",
            "  if not isinstance(terminated, (bool, np.bool8)):\n"
          ]
        },
        {
          "output_type": "stream",
          "name": "stdout",
          "text": [
            "epoch #0\tmean reward = 24.940\tepsilon = 0.500\ttime = 138.43s\n",
            "epoch #1\tmean reward = 23.380\tepsilon = 0.495\ttime = 134.45s\n",
            "epoch #2\tmean reward = 20.020\tepsilon = 0.490\ttime = 115.30s\n",
            "epoch #3\tmean reward = 23.040\tepsilon = 0.485\ttime = 129.99s\n",
            "epoch #4\tmean reward = 24.870\tepsilon = 0.480\ttime = 140.32s\n",
            "epoch #5\tmean reward = 29.520\tepsilon = 0.475\ttime = 163.14s\n",
            "epoch #6\tmean reward = 37.260\tepsilon = 0.471\ttime = 208.53s\n",
            "epoch #7\tmean reward = 33.330\tepsilon = 0.466\ttime = 198.03s\n",
            "epoch #8\tmean reward = 29.790\tepsilon = 0.461\ttime = 174.43s\n",
            "epoch #9\tmean reward = 32.210\tepsilon = 0.457\ttime = 187.00s\n",
            "epoch #10\tmean reward = 40.190\tepsilon = 0.452\ttime = 233.34s\n",
            "epoch #11\tmean reward = 35.460\tepsilon = 0.448\ttime = 207.84s\n",
            "epoch #12\tmean reward = 35.680\tepsilon = 0.443\ttime = 216.89s\n",
            "epoch #13\tmean reward = 42.390\tepsilon = 0.439\ttime = 239.67s\n",
            "epoch #14\tmean reward = 50.070\tepsilon = 0.434\ttime = 282.19s\n",
            "epoch #15\tmean reward = 47.280\tepsilon = 0.430\ttime = 264.26s\n",
            "epoch #16\tmean reward = 44.320\tepsilon = 0.426\ttime = 244.77s\n",
            "epoch #17\tmean reward = 43.840\tepsilon = 0.421\ttime = 244.17s\n",
            "epoch #18\tmean reward = 45.540\tepsilon = 0.417\ttime = 256.39s\n",
            "epoch #19\tmean reward = 43.190\tepsilon = 0.413\ttime = 254.16s\n",
            "epoch #20\tmean reward = 45.390\tepsilon = 0.409\ttime = 259.66s\n",
            "epoch #21\tmean reward = 49.130\tepsilon = 0.405\ttime = 292.90s\n",
            "epoch #22\tmean reward = 47.580\tepsilon = 0.401\ttime = 280.81s\n",
            "epoch #23\tmean reward = 54.110\tepsilon = 0.397\ttime = 309.56s\n",
            "epoch #24\tmean reward = 67.430\tepsilon = 0.393\ttime = 386.41s\n",
            "epoch #25\tmean reward = 60.510\tepsilon = 0.389\ttime = 348.89s\n",
            "epoch #26\tmean reward = 62.530\tepsilon = 0.385\ttime = 361.94s\n",
            "epoch #27\tmean reward = 70.220\tepsilon = 0.381\ttime = 407.25s\n",
            "epoch #28\tmean reward = 72.360\tepsilon = 0.377\ttime = 420.77s\n",
            "epoch #29\tmean reward = 79.140\tepsilon = 0.374\ttime = 458.13s\n",
            "epoch #30\tmean reward = 80.440\tepsilon = 0.370\ttime = 464.62s\n",
            "epoch #31\tmean reward = 82.770\tepsilon = 0.366\ttime = 467.11s\n",
            "epoch #32\tmean reward = 71.230\tepsilon = 0.362\ttime = 397.37s\n",
            "epoch #33\tmean reward = 81.090\tepsilon = 0.359\ttime = 453.39s\n",
            "epoch #34\tmean reward = 83.210\tepsilon = 0.355\ttime = 451.56s\n",
            "epoch #35\tmean reward = 102.510\tepsilon = 0.352\ttime = 569.27s\n",
            "epoch #36\tmean reward = 94.790\tepsilon = 0.348\ttime = 520.31s\n",
            "epoch #37\tmean reward = 84.790\tepsilon = 0.345\ttime = 474.27s\n",
            "epoch #38\tmean reward = 113.000\tepsilon = 0.341\ttime = 641.70s\n",
            "epoch #39\tmean reward = 106.730\tepsilon = 0.338\ttime = 602.20s\n",
            "epoch #40\tmean reward = 101.580\tepsilon = 0.334\ttime = 585.37s\n",
            "epoch #41\tmean reward = 125.830\tepsilon = 0.331\ttime = 683.45s\n",
            "epoch #42\tmean reward = 140.100\tepsilon = 0.328\ttime = 771.10s\n",
            "epoch #43\tmean reward = 150.050\tepsilon = 0.325\ttime = 813.63s\n",
            "epoch #44\tmean reward = 131.990\tepsilon = 0.321\ttime = 753.13s\n",
            "epoch #45\tmean reward = 144.160\tepsilon = 0.318\ttime = 817.83s\n",
            "epoch #46\tmean reward = 119.920\tepsilon = 0.315\ttime = 673.54s\n",
            "epoch #47\tmean reward = 140.480\tepsilon = 0.312\ttime = 806.04s\n",
            "epoch #48\tmean reward = 147.750\tepsilon = 0.309\ttime = 819.39s\n",
            "epoch #49\tmean reward = 150.620\tepsilon = 0.306\ttime = 830.34s\n",
            "epoch #50\tmean reward = 166.160\tepsilon = 0.303\ttime = 940.36s\n",
            "epoch #51\tmean reward = 150.260\tepsilon = 0.299\ttime = 811.15s\n",
            "epoch #52\tmean reward = 166.710\tepsilon = 0.296\ttime = 921.72s\n",
            "epoch #53\tmean reward = 166.750\tepsilon = 0.294\ttime = 921.53s\n",
            "epoch #54\tmean reward = 144.040\tepsilon = 0.291\ttime = 778.80s\n",
            "epoch #55\tmean reward = 175.010\tepsilon = 0.288\ttime = 937.47s\n",
            "epoch #56\tmean reward = 142.640\tepsilon = 0.285\ttime = 734.22s\n",
            "epoch #57\tmean reward = 124.070\tepsilon = 0.282\ttime = 645.88s\n",
            "epoch #58\tmean reward = 157.090\tepsilon = 0.279\ttime = 836.30s\n",
            "epoch #59\tmean reward = 141.630\tepsilon = 0.276\ttime = 741.37s\n",
            "epoch #60\tmean reward = 144.400\tepsilon = 0.274\ttime = 752.31s\n",
            "epoch #61\tmean reward = 184.810\tepsilon = 0.271\ttime = 996.25s\n",
            "epoch #62\tmean reward = 168.310\tepsilon = 0.268\ttime = 887.61s\n",
            "epoch #63\tmean reward = 179.280\tepsilon = 0.265\ttime = 941.82s\n",
            "epoch #64\tmean reward = 241.950\tepsilon = 0.263\ttime = 1265.62s\n",
            "epoch #65\tmean reward = 207.430\tepsilon = 0.260\ttime = 1139.72s\n",
            "epoch #66\tmean reward = 196.020\tepsilon = 0.258\ttime = 1031.13s\n",
            "epoch #67\tmean reward = 192.250\tepsilon = 0.255\ttime = 1057.26s\n",
            "epoch #68\tmean reward = 196.270\tepsilon = 0.252\ttime = 1050.58s\n",
            "epoch #69\tmean reward = 186.770\tepsilon = 0.250\ttime = 994.61s\n",
            "epoch #70\tmean reward = 234.440\tepsilon = 0.247\ttime = 1226.53s\n",
            "epoch #71\tmean reward = 208.030\tepsilon = 0.245\ttime = 1094.53s\n"
          ]
        }
      ]
    }
  ]
}